{
 "cells": [
  {
   "cell_type": "markdown",
   "id": "5a438be1",
   "metadata": {},
   "source": [
    "## The following is an analysis of a job postings dataset that was downloaded from Kaggle.com"
   ]
  },
  {
   "cell_type": "code",
   "execution_count": 1,
   "id": "5dc797e8",
   "metadata": {},
   "outputs": [],
   "source": [
    "import os\n",
    "import pandas as pd\n",
    "import numpy as np\n",
    "import seaborn as sns\n",
    "import matplotlib.pyplot as plt\n",
    "%matplotlib inline"
   ]
  },
  {
   "cell_type": "code",
   "execution_count": 2,
   "id": "b5de14aa",
   "metadata": {},
   "outputs": [],
   "source": [
    "postings = pd.read_csv('C:\\\\Users\\\\Tyler Nardone\\\\Documents\\\\Python\\\\Projects\\\\Job Postings\\\\job_dataset.csv')"
   ]
  },
  {
   "cell_type": "code",
   "execution_count": 3,
   "id": "a0e5abe7",
   "metadata": {},
   "outputs": [
    {
     "data": {
      "text/html": [
       "<div>\n",
       "<style scoped>\n",
       "    .dataframe tbody tr th:only-of-type {\n",
       "        vertical-align: middle;\n",
       "    }\n",
       "\n",
       "    .dataframe tbody tr th {\n",
       "        vertical-align: top;\n",
       "    }\n",
       "\n",
       "    .dataframe thead th {\n",
       "        text-align: right;\n",
       "    }\n",
       "</style>\n",
       "<table border=\"1\" class=\"dataframe\">\n",
       "  <thead>\n",
       "    <tr style=\"text-align: right;\">\n",
       "      <th></th>\n",
       "      <th>job_title</th>\n",
       "      <th>company</th>\n",
       "      <th>job_location</th>\n",
       "      <th>job_summary</th>\n",
       "      <th>post_date</th>\n",
       "      <th>today</th>\n",
       "      <th>job_salary</th>\n",
       "      <th>job_url</th>\n",
       "    </tr>\n",
       "  </thead>\n",
       "  <tbody>\n",
       "    <tr>\n",
       "      <th>0</th>\n",
       "      <td>Technology Lead : Data Science I Machine Learning</td>\n",
       "      <td>Infosys Limited</td>\n",
       "      <td>Bengaluru, Karnataka</td>\n",
       "      <td>A day in the life of an Infoscion • As part of...</td>\n",
       "      <td>PostedPosted 30+ days ago</td>\n",
       "      <td>2022-07-26</td>\n",
       "      <td>NaN</td>\n",
       "      <td>https://in.indeed.com/pagead/clk?mo=r&amp;ad=-6NYl...</td>\n",
       "    </tr>\n",
       "    <tr>\n",
       "      <th>1</th>\n",
       "      <td>Software Engineer, Machine Learning</td>\n",
       "      <td>Google</td>\n",
       "      <td>Bengaluru, Karnataka</td>\n",
       "      <td>2 years of relevant work experience in machine...</td>\n",
       "      <td>PostedPosted 30+ days ago</td>\n",
       "      <td>2022-07-26</td>\n",
       "      <td>NaN</td>\n",
       "      <td>https://in.indeed.com/pagead/clk?mo=r&amp;ad=-6NYl...</td>\n",
       "    </tr>\n",
       "    <tr>\n",
       "      <th>2</th>\n",
       "      <td>Experienced Over The Shoulder Mechanic- C17</td>\n",
       "      <td>BOEING</td>\n",
       "      <td>Remote in Air Force Station, Karnataka</td>\n",
       "      <td>This position will focus on supporting the Boe...</td>\n",
       "      <td>PostedPosted 3 days ago</td>\n",
       "      <td>2022-07-26</td>\n",
       "      <td>NaN</td>\n",
       "      <td>https://in.indeed.com/pagead/clk?mo=r&amp;ad=-6NYl...</td>\n",
       "    </tr>\n",
       "    <tr>\n",
       "      <th>3</th>\n",
       "      <td>Data Scientist</td>\n",
       "      <td>Infosys Limited</td>\n",
       "      <td>Bengaluru, Karnataka</td>\n",
       "      <td>Anchor ML development track in a client projec...</td>\n",
       "      <td>PostedPosted 30+ days ago</td>\n",
       "      <td>2022-07-26</td>\n",
       "      <td>NaN</td>\n",
       "      <td>https://in.indeed.com/pagead/clk?mo=r&amp;ad=-6NYl...</td>\n",
       "    </tr>\n",
       "    <tr>\n",
       "      <th>4</th>\n",
       "      <td>Python Developer</td>\n",
       "      <td>Infosys Limited</td>\n",
       "      <td>Bengaluru, Karnataka</td>\n",
       "      <td>Should have a decent understanding of the Mach...</td>\n",
       "      <td>PostedPosted 30+ days ago</td>\n",
       "      <td>2022-07-26</td>\n",
       "      <td>NaN</td>\n",
       "      <td>https://in.indeed.com/pagead/clk?mo=r&amp;ad=-6NYl...</td>\n",
       "    </tr>\n",
       "  </tbody>\n",
       "</table>\n",
       "</div>"
      ],
      "text/plain": [
       "                                           job_title          company  \\\n",
       "0  Technology Lead : Data Science I Machine Learning  Infosys Limited   \n",
       "1                Software Engineer, Machine Learning           Google   \n",
       "2        Experienced Over The Shoulder Mechanic- C17           BOEING   \n",
       "3                                     Data Scientist  Infosys Limited   \n",
       "4                                   Python Developer  Infosys Limited   \n",
       "\n",
       "                             job_location  \\\n",
       "0                    Bengaluru, Karnataka   \n",
       "1                    Bengaluru, Karnataka   \n",
       "2  Remote in Air Force Station, Karnataka   \n",
       "3                    Bengaluru, Karnataka   \n",
       "4                    Bengaluru, Karnataka   \n",
       "\n",
       "                                         job_summary  \\\n",
       "0  A day in the life of an Infoscion • As part of...   \n",
       "1  2 years of relevant work experience in machine...   \n",
       "2  This position will focus on supporting the Boe...   \n",
       "3  Anchor ML development track in a client projec...   \n",
       "4  Should have a decent understanding of the Mach...   \n",
       "\n",
       "                   post_date       today job_salary  \\\n",
       "0  PostedPosted 30+ days ago  2022-07-26        NaN   \n",
       "1  PostedPosted 30+ days ago  2022-07-26        NaN   \n",
       "2    PostedPosted 3 days ago  2022-07-26        NaN   \n",
       "3  PostedPosted 30+ days ago  2022-07-26        NaN   \n",
       "4  PostedPosted 30+ days ago  2022-07-26        NaN   \n",
       "\n",
       "                                             job_url  \n",
       "0  https://in.indeed.com/pagead/clk?mo=r&ad=-6NYl...  \n",
       "1  https://in.indeed.com/pagead/clk?mo=r&ad=-6NYl...  \n",
       "2  https://in.indeed.com/pagead/clk?mo=r&ad=-6NYl...  \n",
       "3  https://in.indeed.com/pagead/clk?mo=r&ad=-6NYl...  \n",
       "4  https://in.indeed.com/pagead/clk?mo=r&ad=-6NYl...  "
      ]
     },
     "execution_count": 3,
     "metadata": {},
     "output_type": "execute_result"
    }
   ],
   "source": [
    "postings.head()"
   ]
  },
  {
   "cell_type": "code",
   "execution_count": 4,
   "id": "9015e960",
   "metadata": {},
   "outputs": [
    {
     "name": "stdout",
     "output_type": "stream",
     "text": [
      "This dataset contains 1583 rows and 8 columns.\n"
     ]
    }
   ],
   "source": [
    "print(f'This dataset contains {postings.shape[0]} rows and {postings.shape[1]} columns.')"
   ]
  },
  {
   "cell_type": "code",
   "execution_count": 5,
   "id": "0b1f53d4",
   "metadata": {},
   "outputs": [
    {
     "name": "stdout",
     "output_type": "stream",
     "text": [
      "<class 'pandas.core.frame.DataFrame'>\n",
      "RangeIndex: 1583 entries, 0 to 1582\n",
      "Data columns (total 8 columns):\n",
      " #   Column        Non-Null Count  Dtype \n",
      "---  ------        --------------  ----- \n",
      " 0   job_title     1583 non-null   object\n",
      " 1   company       1583 non-null   object\n",
      " 2   job_location  1583 non-null   object\n",
      " 3   job_summary   1583 non-null   object\n",
      " 4   post_date     1583 non-null   object\n",
      " 5   today         1583 non-null   object\n",
      " 6   job_salary    405 non-null    object\n",
      " 7   job_url       1583 non-null   object\n",
      "dtypes: object(8)\n",
      "memory usage: 99.1+ KB\n"
     ]
    }
   ],
   "source": [
    "postings.info()"
   ]
  },
  {
   "cell_type": "code",
   "execution_count": 6,
   "id": "d65ca466",
   "metadata": {},
   "outputs": [
    {
     "data": {
      "text/html": [
       "<div>\n",
       "<style scoped>\n",
       "    .dataframe tbody tr th:only-of-type {\n",
       "        vertical-align: middle;\n",
       "    }\n",
       "\n",
       "    .dataframe tbody tr th {\n",
       "        vertical-align: top;\n",
       "    }\n",
       "\n",
       "    .dataframe thead th {\n",
       "        text-align: right;\n",
       "    }\n",
       "</style>\n",
       "<table border=\"1\" class=\"dataframe\">\n",
       "  <thead>\n",
       "    <tr style=\"text-align: right;\">\n",
       "      <th></th>\n",
       "      <th>job_title</th>\n",
       "      <th>company</th>\n",
       "      <th>job_location</th>\n",
       "      <th>job_summary</th>\n",
       "      <th>post_date</th>\n",
       "      <th>today</th>\n",
       "      <th>job_salary</th>\n",
       "      <th>job_url</th>\n",
       "    </tr>\n",
       "  </thead>\n",
       "  <tbody>\n",
       "    <tr>\n",
       "      <th>count</th>\n",
       "      <td>1583</td>\n",
       "      <td>1583</td>\n",
       "      <td>1583</td>\n",
       "      <td>1583</td>\n",
       "      <td>1583</td>\n",
       "      <td>1583</td>\n",
       "      <td>405</td>\n",
       "      <td>1583</td>\n",
       "    </tr>\n",
       "    <tr>\n",
       "      <th>unique</th>\n",
       "      <td>965</td>\n",
       "      <td>917</td>\n",
       "      <td>169</td>\n",
       "      <td>1480</td>\n",
       "      <td>80</td>\n",
       "      <td>1</td>\n",
       "      <td>238</td>\n",
       "      <td>1438</td>\n",
       "    </tr>\n",
       "    <tr>\n",
       "      <th>top</th>\n",
       "      <td>Data Analyst</td>\n",
       "      <td>Deloitte</td>\n",
       "      <td>Bengaluru, Karnataka</td>\n",
       "      <td>Acquire data from primary or secondary data so...</td>\n",
       "      <td>Posted30+ days ago</td>\n",
       "      <td>2022-07-26</td>\n",
       "      <td>₹15,000 - ₹25,000 a month</td>\n",
       "      <td>https://in.indeed.com/company/Memozin-Private-...</td>\n",
       "    </tr>\n",
       "    <tr>\n",
       "      <th>freq</th>\n",
       "      <td>200</td>\n",
       "      <td>45</td>\n",
       "      <td>478</td>\n",
       "      <td>7</td>\n",
       "      <td>385</td>\n",
       "      <td>1583</td>\n",
       "      <td>11</td>\n",
       "      <td>3</td>\n",
       "    </tr>\n",
       "  </tbody>\n",
       "</table>\n",
       "</div>"
      ],
      "text/plain": [
       "           job_title   company          job_location  \\\n",
       "count           1583      1583                  1583   \n",
       "unique           965       917                   169   \n",
       "top     Data Analyst  Deloitte  Bengaluru, Karnataka   \n",
       "freq             200        45                   478   \n",
       "\n",
       "                                              job_summary           post_date  \\\n",
       "count                                                1583                1583   \n",
       "unique                                               1480                  80   \n",
       "top     Acquire data from primary or secondary data so...  Posted30+ days ago   \n",
       "freq                                                    7                 385   \n",
       "\n",
       "             today                 job_salary  \\\n",
       "count         1583                        405   \n",
       "unique           1                        238   \n",
       "top     2022-07-26  ₹15,000 - ₹25,000 a month   \n",
       "freq          1583                         11   \n",
       "\n",
       "                                                  job_url  \n",
       "count                                                1583  \n",
       "unique                                               1438  \n",
       "top     https://in.indeed.com/company/Memozin-Private-...  \n",
       "freq                                                    3  "
      ]
     },
     "execution_count": 6,
     "metadata": {},
     "output_type": "execute_result"
    }
   ],
   "source": [
    "postings.describe()"
   ]
  },
  {
   "cell_type": "markdown",
   "id": "09e1da59",
   "metadata": {},
   "source": [
    "#### What are some valuable insights we can take away from the above table?\n",
    "1. Only 80 unique values of \"Post Date\" seems to suggest many repeat values. This would seem to indicate that many of the \n",
    "    jobs were posted on the same day(s).\n",
    "2. Only 405/1583 or 26% report job salary."
   ]
  },
  {
   "cell_type": "markdown",
   "id": "486e8eb1",
   "metadata": {},
   "source": [
    "### For the first task, let's see if we can extract \"Post Date\" column into something easier to deal with. Perhaps transforming to just the integer value would be useful as an input into a machine learning model."
   ]
  },
  {
   "cell_type": "code",
   "execution_count": 7,
   "id": "280e7959",
   "metadata": {
    "scrolled": true
   },
   "outputs": [
    {
     "data": {
      "text/plain": [
       "array(['PostedPosted 30+ days ago', 'PostedPosted 3 days ago',\n",
       "       'EmployerActive 5 days ago', 'PostedPosted 14 days ago',\n",
       "       'PostedJust posted', 'PostedPosted 1 day ago',\n",
       "       'PostedPosted 5 days ago', 'PostedPosted 12 days ago',\n",
       "       'EmployerActive 3 days ago', 'PostedPosted 4 days ago',\n",
       "       'PostedPosted 19 days ago', 'PostedPosted 7 days ago',\n",
       "       'PostedPosted 2 days ago', 'Posted30+ days ago',\n",
       "       'Posted4 days ago', 'Posted10 days ago', 'Hiring ongoing',\n",
       "       'Posted1 day ago', 'Posted5 days ago', 'EmployerActive 4 days ago',\n",
       "       'Posted25 days ago', 'Posted7 days ago', 'Posted17 days ago',\n",
       "       'Posted3 days ago', 'Posted20 days ago', 'Posted12 days ago',\n",
       "       'PostedToday', 'Posted6 days ago', 'Posted11 days ago',\n",
       "       'Posted19 days ago', 'Posted21 days ago', 'Employer30+ days ago',\n",
       "       'Posted9 days ago', 'EmployerActive 11 days ago',\n",
       "       'PostedPosted 6 days ago', 'EmployerActive 7 days ago',\n",
       "       'PostedPosted 21 days ago', 'PostedPosted 11 days ago',\n",
       "       'PostedPosted 10 days ago', 'Posted13 days ago',\n",
       "       'Posted26 days ago', 'Posted8 days ago', 'Posted23 days ago',\n",
       "       'Posted14 days ago', 'Posted27 days ago',\n",
       "       'PostedPosted 9 days ago', 'EmployerActive 6 days ago',\n",
       "       'PostedPosted 26 days ago', 'Posted2 days ago',\n",
       "       'PostedPosted 17 days ago', 'PostedPosted 13 days ago',\n",
       "       'PostedPosted 27 days ago', 'Posted24 days ago',\n",
       "       'PostedPosted 24 days ago', 'EmployerActive 17 days ago',\n",
       "       'PostedPosted 25 days ago', 'EmployerActive 10 days ago',\n",
       "       'PostedPosted 8 days ago', 'EmployerActive 9 days ago',\n",
       "       'EmployerActive 22 days ago', 'PostedPosted 18 days ago',\n",
       "       'Posted28 days ago', 'EmployerActive 12 days ago',\n",
       "       'EmployerActive 20 days ago', 'Posted15 days ago',\n",
       "       'EmployerActive 14 days ago', 'PostedPosted 28 days ago',\n",
       "       'Posted22 days ago', 'EmployerActive 25 days ago',\n",
       "       'EmployerActive 8 days ago', 'Posted18 days ago',\n",
       "       'PostedPosted 29 days ago', 'EmployerActive 15 days ago',\n",
       "       'PostedPosted 16 days ago', 'EmployerActive 13 days ago',\n",
       "       'PostedPosted 23 days ago', 'EmployerActive 24 days ago',\n",
       "       'Posted30 days ago', 'PostedPosted 20 days ago',\n",
       "       'EmployerActive 19 days ago'], dtype=object)"
      ]
     },
     "execution_count": 7,
     "metadata": {},
     "output_type": "execute_result"
    }
   ],
   "source": [
    "postings['post_date'].unique()"
   ]
  },
  {
   "cell_type": "markdown",
   "id": "49bd859d",
   "metadata": {},
   "source": [
    "We are going to assume that \"PostedPosted\" and \"EmployerActive\" mean essentially the same thing."
   ]
  },
  {
   "cell_type": "markdown",
   "id": "e3288c0e",
   "metadata": {},
   "source": [
    "#### First we must verify that every entry is measured in days    "
   ]
  },
  {
   "cell_type": "markdown",
   "id": "bb4279de",
   "metadata": {},
   "source": [
    "We will create a list of different measurements of time to verify if an entry is measured in anything different than \"days\". Plural time periods are not needed, for example \"day\" is found inside of both \"day\" and \"days\"."
   ]
  },
  {
   "cell_type": "code",
   "execution_count": 8,
   "id": "a0f87c2f",
   "metadata": {},
   "outputs": [],
   "source": [
    "checklist = ['minute', 'hour', 'today', 'day', 'week', 'month', 'year']"
   ]
  },
  {
   "cell_type": "markdown",
   "id": "abac0754",
   "metadata": {},
   "source": [
    "The purpose of the following function is to take in a phrase and our checklist, and \n",
    "return the words from the checklist that appear in the phrase:"
   ]
  },
  {
   "cell_type": "code",
   "execution_count": 9,
   "id": "c21e8ecc",
   "metadata": {},
   "outputs": [],
   "source": [
    "def used_entries(phrase, checklist):\n",
    "    result = []\n",
    "    for item in checklist:\n",
    "        if item in phrase.lower():\n",
    "            result.append(item)\n",
    "    return result"
   ]
  },
  {
   "cell_type": "markdown",
   "id": "6fbe89f1",
   "metadata": {},
   "source": [
    "Check funtion on a test phrase:"
   ]
  },
  {
   "cell_type": "code",
   "execution_count": 10,
   "id": "90bacb5f",
   "metadata": {},
   "outputs": [
    {
     "data": {
      "text/plain": [
       "['day', 'week']"
      ]
     },
     "execution_count": 10,
     "metadata": {},
     "output_type": "execute_result"
    }
   ],
   "source": [
    "used_entries(postings['post_date'][0] + 'weeks', checklist)"
   ]
  },
  {
   "cell_type": "markdown",
   "id": "ba339056",
   "metadata": {},
   "source": [
    "#### The function works as expected on a single entry, now we must apply it to the entire post_date column."
   ]
  },
  {
   "cell_type": "code",
   "execution_count": 11,
   "id": "56a81852",
   "metadata": {},
   "outputs": [],
   "source": [
    "postings['post_date_unit'] = postings['post_date'].apply(used_entries, args=(checklist,))"
   ]
  },
  {
   "cell_type": "code",
   "execution_count": 12,
   "id": "6d67b7b0",
   "metadata": {},
   "outputs": [
    {
     "data": {
      "text/plain": [
       "0    [day]\n",
       "1    [day]\n",
       "2    [day]\n",
       "3    [day]\n",
       "4    [day]\n",
       "Name: post_date_unit, dtype: object"
      ]
     },
     "execution_count": 12,
     "metadata": {},
     "output_type": "execute_result"
    }
   ],
   "source": [
    "postings['post_date_unit'].head()"
   ]
  },
  {
   "cell_type": "markdown",
   "id": "4e746dbf",
   "metadata": {},
   "source": [
    "It appears that the majority of entries use measurement units of days, but let's check that."
   ]
  },
  {
   "cell_type": "markdown",
   "id": "7119639e",
   "metadata": {},
   "source": [
    "The intent of the following function is to take in a checklist, and going one by one through the list, run each word through a logical test to see if the word appears in each row of a column."
   ]
  },
  {
   "cell_type": "code",
   "execution_count": 13,
   "id": "5917ddc2",
   "metadata": {},
   "outputs": [],
   "source": [
    "def word_check(checklist, test_column):\n",
    "    result = []\n",
    "    for word in checklist:\n",
    "        result.append(True not in [word in test_column[n] for n in range(len(test_column))])\n",
    "    return result"
   ]
  },
  {
   "cell_type": "markdown",
   "id": "a634ab39",
   "metadata": {},
   "source": [
    "Our new checklist is the same as our old checklist, less the value that we already know to appear in the column of interest."
   ]
  },
  {
   "cell_type": "code",
   "execution_count": 14,
   "id": "fd5ee150",
   "metadata": {},
   "outputs": [],
   "source": [
    "new_checklist = ['minute', 'hour', 'today', 'week', 'month', 'year']"
   ]
  },
  {
   "cell_type": "code",
   "execution_count": 15,
   "id": "73c31ac7",
   "metadata": {},
   "outputs": [
    {
     "data": {
      "text/plain": [
       "[True, True, False, True, True, True]"
      ]
     },
     "execution_count": 15,
     "metadata": {},
     "output_type": "execute_result"
    }
   ],
   "source": [
    "word_check(new_checklist, postings['post_date_unit'])"
   ]
  },
  {
   "cell_type": "markdown",
   "id": "9af5f960",
   "metadata": {},
   "source": [
    "The above test confirms that in addition to \"day\", \"today\" also appears in the column we just created."
   ]
  },
  {
   "cell_type": "markdown",
   "id": "b2147a85",
   "metadata": {},
   "source": [
    "Even with our above test, it is still possible that our check missed some values. Now let's work on finding the unique values of any entry that is neither \"day\" nor \"today\"."
   ]
  },
  {
   "cell_type": "markdown",
   "id": "01b58841",
   "metadata": {},
   "source": [
    "#### Our Post_Date_Unit column is a little bit difficult to deal with since every entry is a list. Let's adjust this so that only string values are present. "
   ]
  },
  {
   "cell_type": "markdown",
   "id": "55662979",
   "metadata": {},
   "source": [
    "It is clear from our \"used_entries\" column, that if an entry contains none of the words in the checklist, the function returns an empty list. This case will be trivial to deal with. \n",
    "\n",
    "However, if an entry contains the word \"today\", then our function will return the list [\"today\", \"day\"], since \"day\" is contained within \"today\". If this is the case, we will only be concerned with the first item in the list.\n",
    "\n",
    "The following function will return nothing if an empty list is passed in, and only the first value of a list if the length of the list is 1 or 2. This will ensure we pick up the string \"day\" on entries measured in days, and \"today\" on entries containing the word \"today\"."
   ]
  },
  {
   "cell_type": "code",
   "execution_count": 16,
   "id": "bdc8dab3",
   "metadata": {},
   "outputs": [],
   "source": [
    "def lst_transform(lst):\n",
    "    if len(lst) == 0:\n",
    "        pass\n",
    "    elif len(lst) == 1:\n",
    "        return lst[0]\n",
    "    elif len(lst) == 2:\n",
    "        return lst[0]"
   ]
  },
  {
   "cell_type": "markdown",
   "id": "da8bf73c",
   "metadata": {},
   "source": [
    "How many values are neither \"day\" nor \"today\"?"
   ]
  },
  {
   "cell_type": "code",
   "execution_count": 17,
   "id": "be447068",
   "metadata": {},
   "outputs": [],
   "source": [
    "null_entries = len(postings['post_date_unit']) - sum([bool(lst_transform(postings['post_date_unit'][n])) \n",
    "                                                      for n in range(len(postings['post_date_unit']))])"
   ]
  },
  {
   "cell_type": "markdown",
   "id": "2bf8c454",
   "metadata": {},
   "source": [
    "In the above, if the input to lst_transform is an empty list, bool() will return False. The above counts the instances where this results in False, and subtracts that from the total number of rows."
   ]
  },
  {
   "cell_type": "code",
   "execution_count": 18,
   "id": "7441dd23",
   "metadata": {},
   "outputs": [
    {
     "name": "stdout",
     "output_type": "stream",
     "text": [
      "There are 48 rows with values that contain neither 'today' nor 'day'.\n"
     ]
    }
   ],
   "source": [
    "print(f\"There are {str(null_entries)} rows with values that contain neither 'today' nor 'day'.\")"
   ]
  },
  {
   "cell_type": "markdown",
   "id": "77da46df",
   "metadata": {},
   "source": [
    "Let's apply this lst_transform function in place to our Post Date Unit column."
   ]
  },
  {
   "cell_type": "code",
   "execution_count": 19,
   "id": "6e344c56",
   "metadata": {},
   "outputs": [],
   "source": [
    "postings.loc[:, 'post_date_unit'] = postings.post_date_unit.apply(lst_transform)"
   ]
  },
  {
   "cell_type": "code",
   "execution_count": 20,
   "id": "54b312bb",
   "metadata": {},
   "outputs": [
    {
     "data": {
      "text/plain": [
       "array(['day', None, 'today'], dtype=object)"
      ]
     },
     "execution_count": 20,
     "metadata": {},
     "output_type": "execute_result"
    }
   ],
   "source": [
    "postings['post_date_unit'].unique()"
   ]
  },
  {
   "cell_type": "code",
   "execution_count": 21,
   "id": "eadc405a",
   "metadata": {},
   "outputs": [],
   "source": [
    "unfound_rows = postings[postings['post_date_unit'].isin(['day', 'today']) == False]['post_date'].unique()"
   ]
  },
  {
   "cell_type": "code",
   "execution_count": 22,
   "id": "23f2c6bf",
   "metadata": {},
   "outputs": [
    {
     "data": {
      "text/plain": [
       "array(['PostedJust posted', 'Hiring ongoing'], dtype=object)"
      ]
     },
     "execution_count": 22,
     "metadata": {},
     "output_type": "execute_result"
    }
   ],
   "source": [
    "unfound_rows"
   ]
  },
  {
   "cell_type": "markdown",
   "id": "db298976",
   "metadata": {},
   "source": [
    "#### Now we must extract the integer from every entry in the Post Date column into a new column. Any entries that say \"Just Posted\" or \"Hiring Ongoing\" will be assigned a value of 0. Entries containing \"today\" will be assigned a value of 0."
   ]
  },
  {
   "cell_type": "markdown",
   "id": "c8206f6b",
   "metadata": {},
   "source": [
    "Create a function to extract the integer from a string:"
   ]
  },
  {
   "cell_type": "code",
   "execution_count": 23,
   "id": "b5bd9cd5",
   "metadata": {},
   "outputs": [],
   "source": [
    "import re"
   ]
  },
  {
   "cell_type": "code",
   "execution_count": 24,
   "id": "bf539e35",
   "metadata": {},
   "outputs": [],
   "source": [
    "def get_num(string):\n",
    "    if '+' in string:\n",
    "        num_list = re.findall(r'\\d+', string) \n",
    "        return ''.join([str(n) for n in num_list]) + '+'\n",
    "    elif 'today' in string.lower():\n",
    "        return '0'\n",
    "    elif string in unfound_rows:\n",
    "        return '0'\n",
    "    else:\n",
    "        num_list = re.findall(r'\\d+', string)\n",
    "        return ''.join([str(n) for n in num_list])"
   ]
  },
  {
   "cell_type": "code",
   "execution_count": 25,
   "id": "fd527a0c",
   "metadata": {},
   "outputs": [],
   "source": [
    "test_str1 = '1000+ days'"
   ]
  },
  {
   "cell_type": "code",
   "execution_count": 26,
   "id": "39ed2b06",
   "metadata": {},
   "outputs": [],
   "source": [
    "test_str2 = '1 Day'"
   ]
  },
  {
   "cell_type": "code",
   "execution_count": 27,
   "id": "53d2e573",
   "metadata": {},
   "outputs": [],
   "source": [
    "test_str3 = '1000 Days'"
   ]
  },
  {
   "cell_type": "code",
   "execution_count": 28,
   "id": "36411d7a",
   "metadata": {},
   "outputs": [],
   "source": [
    "test_str4 = 'PostedToday'"
   ]
  },
  {
   "cell_type": "code",
   "execution_count": 29,
   "id": "fccbcb83",
   "metadata": {},
   "outputs": [],
   "source": [
    "test_str5 = 'Hiring ongoing'"
   ]
  },
  {
   "cell_type": "code",
   "execution_count": 30,
   "id": "fff21eb8",
   "metadata": {},
   "outputs": [
    {
     "data": {
      "text/plain": [
       "'1000+'"
      ]
     },
     "execution_count": 30,
     "metadata": {},
     "output_type": "execute_result"
    }
   ],
   "source": [
    "get_num(test_str1)"
   ]
  },
  {
   "cell_type": "code",
   "execution_count": 31,
   "id": "9ef56d9d",
   "metadata": {},
   "outputs": [
    {
     "data": {
      "text/plain": [
       "'1'"
      ]
     },
     "execution_count": 31,
     "metadata": {},
     "output_type": "execute_result"
    }
   ],
   "source": [
    "get_num(test_str2)"
   ]
  },
  {
   "cell_type": "code",
   "execution_count": 32,
   "id": "a4992b41",
   "metadata": {},
   "outputs": [
    {
     "data": {
      "text/plain": [
       "'1000'"
      ]
     },
     "execution_count": 32,
     "metadata": {},
     "output_type": "execute_result"
    }
   ],
   "source": [
    "get_num(test_str3)"
   ]
  },
  {
   "cell_type": "code",
   "execution_count": 33,
   "id": "965c6066",
   "metadata": {},
   "outputs": [
    {
     "data": {
      "text/plain": [
       "'0'"
      ]
     },
     "execution_count": 33,
     "metadata": {},
     "output_type": "execute_result"
    }
   ],
   "source": [
    "get_num(test_str4)"
   ]
  },
  {
   "cell_type": "code",
   "execution_count": 34,
   "id": "9bf738fc",
   "metadata": {},
   "outputs": [
    {
     "data": {
      "text/plain": [
       "'0'"
      ]
     },
     "execution_count": 34,
     "metadata": {},
     "output_type": "execute_result"
    }
   ],
   "source": [
    "get_num(test_str5)"
   ]
  },
  {
   "cell_type": "markdown",
   "id": "f9401eda",
   "metadata": {},
   "source": [
    "Now we will apply this extraction funtion to the Post Date Column, and assign 0 as needed."
   ]
  },
  {
   "cell_type": "code",
   "execution_count": 35,
   "id": "8c19978b",
   "metadata": {},
   "outputs": [],
   "source": [
    "postings['int_post_date'] = postings['post_date'].apply(get_num)"
   ]
  },
  {
   "cell_type": "markdown",
   "id": "80615eff",
   "metadata": {},
   "source": [
    "Side note: The \"int_post_date\" column really contains strings rather than integers, which was a choice made in order to distinguish between 30 days, and 30+ days. If this column was to be used as an input into a machine learning model, this column would need to be converted to integers."
   ]
  },
  {
   "cell_type": "code",
   "execution_count": 36,
   "id": "57df84aa",
   "metadata": {},
   "outputs": [
    {
     "data": {
      "text/plain": [
       "Text(0.5, 0, 'Number of Days Since Job was Posted')"
      ]
     },
     "execution_count": 36,
     "metadata": {},
     "output_type": "execute_result"
    },
    {
     "data": {
      "image/png": "[encoded data removed]",
      "text/plain": [
       "<Figure size 864x432 with 1 Axes>"
      ]
     },
     "metadata": {
      "needs_background": "light"
     },
     "output_type": "display_data"
    }
   ],
   "source": [
    "fig = plt.figure(figsize=(12,6))\n",
    "\n",
    "axis_order = [str(x) for x in range(31)] + ['30+']\n",
    "\n",
    "sns.set_theme(style=\"darkgrid\")\n",
    "ax = sns.countplot(x='int_post_date', data=postings, order=axis_order, palette='deep')\n",
    "ax.set_xlabel('Number of Days Since Job was Posted')"
   ]
  },
  {
   "cell_type": "markdown",
   "id": "120f253b",
   "metadata": {},
   "source": [
    "Above is a countplot of the number of days each job has been posted. It appears that most jobs have been listed for either less than 1 week, or more than 30 days."
   ]
  },
  {
   "cell_type": "markdown",
   "id": "d7c4712b",
   "metadata": {},
   "source": [
    "### Next let's take a look to see if we can gain any insights from the postings that include salary information"
   ]
  },
  {
   "cell_type": "markdown",
   "id": "1324ecae",
   "metadata": {},
   "source": [
    "How can we select only cells from this column that contain values, and not NaN?"
   ]
  },
  {
   "cell_type": "code",
   "execution_count": 37,
   "id": "d649d4c3",
   "metadata": {},
   "outputs": [
    {
     "data": {
      "text/plain": [
       "0        True\n",
       "1        True\n",
       "2        True\n",
       "3        True\n",
       "4        True\n",
       "        ...  \n",
       "1578     True\n",
       "1579    False\n",
       "1580    False\n",
       "1581    False\n",
       "1582    False\n",
       "Name: job_salary, Length: 1583, dtype: bool"
      ]
     },
     "execution_count": 37,
     "metadata": {},
     "output_type": "execute_result"
    }
   ],
   "source": [
    "postings['job_salary'].isna()"
   ]
  },
  {
   "cell_type": "markdown",
   "id": "5709575e",
   "metadata": {},
   "source": [
    "The above condition will be true for any NaN entries. Let's look at the rows where this condition is false."
   ]
  },
  {
   "cell_type": "code",
   "execution_count": 38,
   "id": "e79ed339",
   "metadata": {},
   "outputs": [],
   "source": [
    "salaries_only = pd.DataFrame(postings[postings['job_salary'].isna() == False]).reset_index()"
   ]
  },
  {
   "cell_type": "code",
   "execution_count": 39,
   "id": "471a1eb2",
   "metadata": {},
   "outputs": [
    {
     "data": {
      "text/html": [
       "<div>\n",
       "<style scoped>\n",
       "    .dataframe tbody tr th:only-of-type {\n",
       "        vertical-align: middle;\n",
       "    }\n",
       "\n",
       "    .dataframe tbody tr th {\n",
       "        vertical-align: top;\n",
       "    }\n",
       "\n",
       "    .dataframe thead th {\n",
       "        text-align: right;\n",
       "    }\n",
       "</style>\n",
       "<table border=\"1\" class=\"dataframe\">\n",
       "  <thead>\n",
       "    <tr style=\"text-align: right;\">\n",
       "      <th></th>\n",
       "      <th>index</th>\n",
       "      <th>job_title</th>\n",
       "      <th>company</th>\n",
       "      <th>job_location</th>\n",
       "      <th>job_summary</th>\n",
       "      <th>post_date</th>\n",
       "      <th>today</th>\n",
       "      <th>job_salary</th>\n",
       "      <th>job_url</th>\n",
       "      <th>post_date_unit</th>\n",
       "      <th>int_post_date</th>\n",
       "    </tr>\n",
       "  </thead>\n",
       "  <tbody>\n",
       "    <tr>\n",
       "      <th>0</th>\n",
       "      <td>5</td>\n",
       "      <td>Senior Data Analyst</td>\n",
       "      <td>AdTech Holding</td>\n",
       "      <td>Bengaluru, Karnataka</td>\n",
       "      <td>Work on the development of the PropellerAds pr...</td>\n",
       "      <td>EmployerActive 5 days ago</td>\n",
       "      <td>2022-07-26</td>\n",
       "      <td>₹80,045 a month</td>\n",
       "      <td>https://in.indeed.com/pagead/clk?mo=r&amp;ad=-6NYl...</td>\n",
       "      <td>day</td>\n",
       "      <td>5</td>\n",
       "    </tr>\n",
       "    <tr>\n",
       "      <th>1</th>\n",
       "      <td>7</td>\n",
       "      <td>Machine Learning-Python</td>\n",
       "      <td>Atos</td>\n",
       "      <td>Pune, Maharashtra</td>\n",
       "      <td>Run machine learning tests and experiments.,De...</td>\n",
       "      <td>PostedPosted 3 days ago</td>\n",
       "      <td>2022-07-26</td>\n",
       "      <td>₹18,00,000 - ₹22,00,000 a year</td>\n",
       "      <td>https://in.indeed.com/company/Atos/jobs/Machin...</td>\n",
       "      <td>day</td>\n",
       "      <td>3</td>\n",
       "    </tr>\n",
       "    <tr>\n",
       "      <th>2</th>\n",
       "      <td>12</td>\n",
       "      <td>Cloud Engineer (Remote)</td>\n",
       "      <td>Julia Computing</td>\n",
       "      <td>Remote in Bengaluru, Karnataka</td>\n",
       "      <td>Julia Computing was founded in 2015 by the cre...</td>\n",
       "      <td>EmployerActive 3 days ago</td>\n",
       "      <td>2022-07-26</td>\n",
       "      <td>₹15,00,000 - ₹40,00,000 a year</td>\n",
       "      <td>https://in.indeed.com/company/Julia-Computing/...</td>\n",
       "      <td>day</td>\n",
       "      <td>3</td>\n",
       "    </tr>\n",
       "    <tr>\n",
       "      <th>3</th>\n",
       "      <td>16</td>\n",
       "      <td>Machine Learning Developer</td>\n",
       "      <td>Tech Opportunity</td>\n",
       "      <td>Andheri, Mumbai, Maharashtra</td>\n",
       "      <td>Machine learning: 2 years (Preferred).,We have...</td>\n",
       "      <td>PostedPosted 1 day ago</td>\n",
       "      <td>2022-07-26</td>\n",
       "      <td>₹2,50,000 - ₹6,50,000 a month</td>\n",
       "      <td>https://in.indeed.com/company/Tech-Opportunity...</td>\n",
       "      <td>day</td>\n",
       "      <td>1</td>\n",
       "    </tr>\n",
       "    <tr>\n",
       "      <th>4</th>\n",
       "      <td>23</td>\n",
       "      <td>Machine Learning Intern</td>\n",
       "      <td>Hacklab Solutions Private Limited</td>\n",
       "      <td>Bengaluru, Karnataka</td>\n",
       "      <td>Work on cutting-edge problems around edge AI a...</td>\n",
       "      <td>PostedPosted 2 days ago</td>\n",
       "      <td>2022-07-26</td>\n",
       "      <td>₹12,086 a month</td>\n",
       "      <td>https://in.indeed.com/company/Hacklab-Solution...</td>\n",
       "      <td>day</td>\n",
       "      <td>2</td>\n",
       "    </tr>\n",
       "    <tr>\n",
       "      <th>...</th>\n",
       "      <td>...</td>\n",
       "      <td>...</td>\n",
       "      <td>...</td>\n",
       "      <td>...</td>\n",
       "      <td>...</td>\n",
       "      <td>...</td>\n",
       "      <td>...</td>\n",
       "      <td>...</td>\n",
       "      <td>...</td>\n",
       "      <td>...</td>\n",
       "      <td>...</td>\n",
       "    </tr>\n",
       "    <tr>\n",
       "      <th>400</th>\n",
       "      <td>1576</td>\n",
       "      <td>Business Analyst - Manuel Testing</td>\n",
       "      <td>Larsen &amp; Toubro Infotech Limited</td>\n",
       "      <td>Hyderabad, Telangana</td>\n",
       "      <td>Analyze data to ensure data quality and accura...</td>\n",
       "      <td>PostedPosted 30+ days ago</td>\n",
       "      <td>2022-07-26</td>\n",
       "      <td>₹3,00,000 - ₹14,00,000 a year</td>\n",
       "      <td>https://in.indeed.com/pagead/clk?mo=r&amp;ad=-6NYl...</td>\n",
       "      <td>day</td>\n",
       "      <td>30+</td>\n",
       "    </tr>\n",
       "    <tr>\n",
       "      <th>401</th>\n",
       "      <td>1579</td>\n",
       "      <td>Business Analyst</td>\n",
       "      <td>Shri Ramswaroop Digital Technologies Pvt. Ltd.</td>\n",
       "      <td>Lucknow, Uttar Pradesh</td>\n",
       "      <td>Lead efforts to gather and analyze data requir...</td>\n",
       "      <td>EmployerActive 4 days ago</td>\n",
       "      <td>2022-07-26</td>\n",
       "      <td>₹20,000 a month</td>\n",
       "      <td>https://in.indeed.com/company/Shri-Ramswaroop-...</td>\n",
       "      <td>day</td>\n",
       "      <td>4</td>\n",
       "    </tr>\n",
       "    <tr>\n",
       "      <th>402</th>\n",
       "      <td>1580</td>\n",
       "      <td>Research Analyst - Central Events (Hybrid)</td>\n",
       "      <td>Janes</td>\n",
       "      <td>Bengaluru, Karnataka</td>\n",
       "      <td>Linking millions of assured data points, Janes...</td>\n",
       "      <td>PostedPosted 20 days ago</td>\n",
       "      <td>2022-07-26</td>\n",
       "      <td>₹6,00,000 a year</td>\n",
       "      <td>https://in.indeed.com/company/Janes/jobs/Resea...</td>\n",
       "      <td>day</td>\n",
       "      <td>20</td>\n",
       "    </tr>\n",
       "    <tr>\n",
       "      <th>403</th>\n",
       "      <td>1581</td>\n",
       "      <td>Program Research Analyst – Sustainable Cities ...</td>\n",
       "      <td>WRI India</td>\n",
       "      <td>Mumbai, Maharashtra</td>\n",
       "      <td>Design and implement quantitative and qualitat...</td>\n",
       "      <td>PostedPosted 18 days ago</td>\n",
       "      <td>2022-07-26</td>\n",
       "      <td>₹8,00,000 - ₹9,00,000 a year</td>\n",
       "      <td>https://in.indeed.com/rc/clk?jk=9dfb216af07f4f...</td>\n",
       "      <td>day</td>\n",
       "      <td>18</td>\n",
       "    </tr>\n",
       "    <tr>\n",
       "      <th>404</th>\n",
       "      <td>1582</td>\n",
       "      <td>Data Analyst</td>\n",
       "      <td>Angara E-Commerce Pvt Ltd</td>\n",
       "      <td>Jaipur, Rajasthan</td>\n",
       "      <td>Analyze website data to determine areas of sit...</td>\n",
       "      <td>EmployerActive 19 days ago</td>\n",
       "      <td>2022-07-26</td>\n",
       "      <td>₹3,00,000 - ₹6,00,000 a year</td>\n",
       "      <td>https://in.indeed.com/company/Angara-E--Commer...</td>\n",
       "      <td>day</td>\n",
       "      <td>19</td>\n",
       "    </tr>\n",
       "  </tbody>\n",
       "</table>\n",
       "<p>405 rows × 11 columns</p>\n",
       "</div>"
      ],
      "text/plain": [
       "     index                                          job_title  \\\n",
       "0        5                                Senior Data Analyst   \n",
       "1        7                            Machine Learning-Python   \n",
       "2       12                            Cloud Engineer (Remote)   \n",
       "3       16                         Machine Learning Developer   \n",
       "4       23                            Machine Learning Intern   \n",
       "..     ...                                                ...   \n",
       "400   1576                  Business Analyst - Manuel Testing   \n",
       "401   1579                                   Business Analyst   \n",
       "402   1580         Research Analyst - Central Events (Hybrid)   \n",
       "403   1581  Program Research Analyst – Sustainable Cities ...   \n",
       "404   1582                                       Data Analyst   \n",
       "\n",
       "                                            company  \\\n",
       "0                                    AdTech Holding   \n",
       "1                                              Atos   \n",
       "2                                   Julia Computing   \n",
       "3                                  Tech Opportunity   \n",
       "4                 Hacklab Solutions Private Limited   \n",
       "..                                              ...   \n",
       "400                Larsen & Toubro Infotech Limited   \n",
       "401  Shri Ramswaroop Digital Technologies Pvt. Ltd.   \n",
       "402                                           Janes   \n",
       "403                                       WRI India   \n",
       "404                       Angara E-Commerce Pvt Ltd   \n",
       "\n",
       "                       job_location  \\\n",
       "0              Bengaluru, Karnataka   \n",
       "1                 Pune, Maharashtra   \n",
       "2    Remote in Bengaluru, Karnataka   \n",
       "3      Andheri, Mumbai, Maharashtra   \n",
       "4              Bengaluru, Karnataka   \n",
       "..                              ...   \n",
       "400            Hyderabad, Telangana   \n",
       "401          Lucknow, Uttar Pradesh   \n",
       "402            Bengaluru, Karnataka   \n",
       "403             Mumbai, Maharashtra   \n",
       "404               Jaipur, Rajasthan   \n",
       "\n",
       "                                           job_summary  \\\n",
       "0    Work on the development of the PropellerAds pr...   \n",
       "1    Run machine learning tests and experiments.,De...   \n",
       "2    Julia Computing was founded in 2015 by the cre...   \n",
       "3    Machine learning: 2 years (Preferred).,We have...   \n",
       "4    Work on cutting-edge problems around edge AI a...   \n",
       "..                                                 ...   \n",
       "400  Analyze data to ensure data quality and accura...   \n",
       "401  Lead efforts to gather and analyze data requir...   \n",
       "402  Linking millions of assured data points, Janes...   \n",
       "403  Design and implement quantitative and qualitat...   \n",
       "404  Analyze website data to determine areas of sit...   \n",
       "\n",
       "                      post_date       today                      job_salary  \\\n",
       "0     EmployerActive 5 days ago  2022-07-26                 ₹80,045 a month   \n",
       "1       PostedPosted 3 days ago  2022-07-26  ₹18,00,000 - ₹22,00,000 a year   \n",
       "2     EmployerActive 3 days ago  2022-07-26  ₹15,00,000 - ₹40,00,000 a year   \n",
       "3        PostedPosted 1 day ago  2022-07-26   ₹2,50,000 - ₹6,50,000 a month   \n",
       "4       PostedPosted 2 days ago  2022-07-26                 ₹12,086 a month   \n",
       "..                          ...         ...                             ...   \n",
       "400   PostedPosted 30+ days ago  2022-07-26   ₹3,00,000 - ₹14,00,000 a year   \n",
       "401   EmployerActive 4 days ago  2022-07-26                 ₹20,000 a month   \n",
       "402    PostedPosted 20 days ago  2022-07-26                ₹6,00,000 a year   \n",
       "403    PostedPosted 18 days ago  2022-07-26    ₹8,00,000 - ₹9,00,000 a year   \n",
       "404  EmployerActive 19 days ago  2022-07-26    ₹3,00,000 - ₹6,00,000 a year   \n",
       "\n",
       "                                               job_url post_date_unit  \\\n",
       "0    https://in.indeed.com/pagead/clk?mo=r&ad=-6NYl...            day   \n",
       "1    https://in.indeed.com/company/Atos/jobs/Machin...            day   \n",
       "2    https://in.indeed.com/company/Julia-Computing/...            day   \n",
       "3    https://in.indeed.com/company/Tech-Opportunity...            day   \n",
       "4    https://in.indeed.com/company/Hacklab-Solution...            day   \n",
       "..                                                 ...            ...   \n",
       "400  https://in.indeed.com/pagead/clk?mo=r&ad=-6NYl...            day   \n",
       "401  https://in.indeed.com/company/Shri-Ramswaroop-...            day   \n",
       "402  https://in.indeed.com/company/Janes/jobs/Resea...            day   \n",
       "403  https://in.indeed.com/rc/clk?jk=9dfb216af07f4f...            day   \n",
       "404  https://in.indeed.com/company/Angara-E--Commer...            day   \n",
       "\n",
       "    int_post_date  \n",
       "0               5  \n",
       "1               3  \n",
       "2               3  \n",
       "3               1  \n",
       "4               2  \n",
       "..            ...  \n",
       "400           30+  \n",
       "401             4  \n",
       "402            20  \n",
       "403            18  \n",
       "404            19  \n",
       "\n",
       "[405 rows x 11 columns]"
      ]
     },
     "execution_count": 39,
     "metadata": {},
     "output_type": "execute_result"
    }
   ],
   "source": [
    "salaries_only"
   ]
  },
  {
   "cell_type": "markdown",
   "id": "71d0da75",
   "metadata": {},
   "source": [
    "At first glance, the currency values all appear to be displayed in Rupees, with varying time periods shown. Let's use a similar approach to what was done for the Post Date, and see if we can extract just the time period from these strings. Then we can decide on a common period and create a new column using only that period."
   ]
  },
  {
   "cell_type": "markdown",
   "id": "5faf4500",
   "metadata": {},
   "source": [
    "We will use our same checklist from the Post Date exercise."
   ]
  },
  {
   "cell_type": "code",
   "execution_count": 40,
   "id": "c93a719b",
   "metadata": {},
   "outputs": [],
   "source": [
    "salaries_only['job_salary_period'] = salaries_only['job_salary'].apply(used_entries, args=(checklist,))"
   ]
  },
  {
   "cell_type": "code",
   "execution_count": 41,
   "id": "a475f1c5",
   "metadata": {},
   "outputs": [
    {
     "data": {
      "text/plain": [
       "0    [month]\n",
       "1     [year]\n",
       "2     [year]\n",
       "3    [month]\n",
       "4    [month]\n",
       "Name: job_salary_period, dtype: object"
      ]
     },
     "execution_count": 41,
     "metadata": {},
     "output_type": "execute_result"
    }
   ],
   "source": [
    "salaries_only['job_salary_period'].head()"
   ]
  },
  {
   "cell_type": "markdown",
   "id": "19db81f4",
   "metadata": {},
   "source": [
    "This list will be much more useful for us if we can use just the string value and remove the list. Let's write a function to do that. Since every list in this column contains only one value, we can simply use the pop function to remove the string from the list."
   ]
  },
  {
   "cell_type": "code",
   "execution_count": 42,
   "id": "084cb3ed",
   "metadata": {},
   "outputs": [],
   "source": [
    "def list_to_string(lst):\n",
    "    return lst.pop()"
   ]
  },
  {
   "cell_type": "markdown",
   "id": "4b6f49a2",
   "metadata": {},
   "source": [
    "Now we must apply this to our column."
   ]
  },
  {
   "cell_type": "code",
   "execution_count": 43,
   "id": "cf791488",
   "metadata": {},
   "outputs": [],
   "source": [
    "salaries_only['job_salary_period'] = salaries_only['job_salary_period'].apply(list_to_string)"
   ]
  },
  {
   "cell_type": "code",
   "execution_count": 44,
   "id": "f91f142b",
   "metadata": {},
   "outputs": [
    {
     "data": {
      "text/plain": [
       "array(['month', 'year', 'hour'], dtype=object)"
      ]
     },
     "execution_count": 44,
     "metadata": {},
     "output_type": "execute_result"
    }
   ],
   "source": [
    "salaries_only['job_salary_period'].unique()"
   ]
  },
  {
   "cell_type": "markdown",
   "id": "187d2dad",
   "metadata": {},
   "source": [
    "Which is the most common?"
   ]
  },
  {
   "cell_type": "code",
   "execution_count": 45,
   "id": "97ed303f",
   "metadata": {},
   "outputs": [
    {
     "data": {
      "text/plain": [
       "Text(0.5, 0, 'Salary Period Measurement')"
      ]
     },
     "execution_count": 45,
     "metadata": {},
     "output_type": "execute_result"
    },
    {
     "data": {
      "image/png": "[encoded data removed]",
      "text/plain": [
       "<Figure size 864x432 with 1 Axes>"
      ]
     },
     "metadata": {},
     "output_type": "display_data"
    }
   ],
   "source": [
    "fig = plt.figure(figsize=(12,6))\n",
    "\n",
    "sns.set_theme(style=\"darkgrid\")\n",
    "ax = sns.countplot(x='job_salary_period', data=salaries_only, palette='deep')\n",
    "ax.set_xlabel('Salary Period Measurement')"
   ]
  },
  {
   "cell_type": "markdown",
   "id": "bce3530c",
   "metadata": {},
   "source": [
    "Since most are measured in years, once we extract the numerical values, let's convert everything to an annual salary so that they can be properly compared.\n",
    "\n",
    "In order to extract numerical values and transform them to annual values, we are going to have to make a few assumptions.\n",
    "1. We will assume the number of working hours per year is the same across all job postings. Let's assume 40 hours/week for 50 weeks/year.\n",
    "2. Some postings report a range of possible salary. Let's assume most people would be more concerned with the maximum potential earnings, so if an entry lists a range, we will only consider the larger value."
   ]
  },
  {
   "cell_type": "markdown",
   "id": "0a795491",
   "metadata": {},
   "source": [
    "We will have to make some minor modifications to our get_num function. To determine where the two numbers in a range split, we will need to identify where the hyphen is in addition to the digits."
   ]
  },
  {
   "cell_type": "code",
   "execution_count": 46,
   "id": "69e3c18c",
   "metadata": {},
   "outputs": [],
   "source": [
    "def get_nums(string):\n",
    "    if '-' in string:\n",
    "        second_half = string.split('-')[1]\n",
    "        num = re.findall(r'\\d+', second_half)\n",
    "        return int(''.join([str(n) for n in num]))\n",
    "    else:\n",
    "        num = re.findall(r'\\d+', string)\n",
    "        return int(''.join([str(n) for n in num]))"
   ]
  },
  {
   "cell_type": "code",
   "execution_count": 47,
   "id": "2347fe40",
   "metadata": {},
   "outputs": [
    {
     "data": {
      "text/plain": [
       "2200000"
      ]
     },
     "execution_count": 47,
     "metadata": {},
     "output_type": "execute_result"
    }
   ],
   "source": [
    "get_nums('₹18,00,000 - ₹22,00,000 a year')"
   ]
  },
  {
   "cell_type": "markdown",
   "id": "380fe959",
   "metadata": {},
   "source": [
    "This function could easily be altered to extract only the lower value of the range by changing the 1 index in second_half to 0."
   ]
  },
  {
   "cell_type": "markdown",
   "id": "b2ce65e8",
   "metadata": {},
   "source": [
    "First, before converting everything to an annual amount, let's extract a column called \"Raw Sal\" that only contains the raw integer that is extracted."
   ]
  },
  {
   "cell_type": "code",
   "execution_count": 48,
   "id": "39ca15b3",
   "metadata": {},
   "outputs": [],
   "source": [
    "salaries_only['raw_sal'] = salaries_only['job_salary'].apply(get_nums)"
   ]
  },
  {
   "cell_type": "code",
   "execution_count": 49,
   "id": "56964a59",
   "metadata": {},
   "outputs": [
    {
     "data": {
      "text/plain": [
       "0        80045\n",
       "1      2200000\n",
       "2      4000000\n",
       "3       650000\n",
       "4        12086\n",
       "        ...   \n",
       "400    1400000\n",
       "401      20000\n",
       "402     600000\n",
       "403     900000\n",
       "404     600000\n",
       "Name: raw_sal, Length: 405, dtype: int64"
      ]
     },
     "execution_count": 49,
     "metadata": {},
     "output_type": "execute_result"
    }
   ],
   "source": [
    "salaries_only['raw_sal']"
   ]
  },
  {
   "cell_type": "markdown",
   "id": "497d2bb2",
   "metadata": {},
   "source": [
    "Now let's write a function to check the Job Salary Period column, and apply a transformation to per year if required."
   ]
  },
  {
   "cell_type": "code",
   "execution_count": 50,
   "id": "d6bf8143",
   "metadata": {},
   "outputs": [],
   "source": [
    "def to_year(amount, period):\n",
    "    if period == 'month':\n",
    "        return amount * 12\n",
    "    elif period == 'hour':\n",
    "        return amount * 40 * 50\n",
    "    elif period == 'year':\n",
    "        return amount  "
   ]
  },
  {
   "cell_type": "code",
   "execution_count": 51,
   "id": "0f5c4115",
   "metadata": {},
   "outputs": [
    {
     "data": {
      "text/plain": [
       "'hour'"
      ]
     },
     "execution_count": 51,
     "metadata": {},
     "output_type": "execute_result"
    }
   ],
   "source": [
    "salaries_only['job_salary_period'][12]"
   ]
  },
  {
   "cell_type": "code",
   "execution_count": 52,
   "id": "3c92cc61",
   "metadata": {},
   "outputs": [
    {
     "data": {
      "text/plain": [
       "1000"
      ]
     },
     "execution_count": 52,
     "metadata": {},
     "output_type": "execute_result"
    }
   ],
   "source": [
    "salaries_only['raw_sal'][12]"
   ]
  },
  {
   "cell_type": "markdown",
   "id": "00c8aadb",
   "metadata": {},
   "source": [
    "The above two cells will be tested as inputs below."
   ]
  },
  {
   "cell_type": "code",
   "execution_count": 53,
   "id": "27073486",
   "metadata": {},
   "outputs": [
    {
     "data": {
      "text/plain": [
       "2000000"
      ]
     },
     "execution_count": 53,
     "metadata": {},
     "output_type": "execute_result"
    }
   ],
   "source": [
    "to_year(salaries_only['raw_sal'][12], salaries_only['job_salary_period'][12])"
   ]
  },
  {
   "cell_type": "code",
   "execution_count": 54,
   "id": "a59f3252",
   "metadata": {},
   "outputs": [],
   "source": [
    "salaries_only['annual_salary'] = salaries_only.apply(lambda x: to_year(x['raw_sal'], x['job_salary_period']), axis=1)"
   ]
  },
  {
   "cell_type": "code",
   "execution_count": 55,
   "id": "b9d5a7af",
   "metadata": {},
   "outputs": [
    {
     "data": {
      "text/plain": [
       "2000000"
      ]
     },
     "execution_count": 55,
     "metadata": {},
     "output_type": "execute_result"
    }
   ],
   "source": [
    "salaries_only['annual_salary'][12]"
   ]
  },
  {
   "cell_type": "code",
   "execution_count": 56,
   "id": "0bffebac",
   "metadata": {},
   "outputs": [],
   "source": [
    "sorted_salaries_only = salaries_only.sort_values(by='annual_salary', ascending=False)"
   ]
  },
  {
   "cell_type": "markdown",
   "id": "52364c38",
   "metadata": {},
   "source": [
    "Let's convert the rupees to USD."
   ]
  },
  {
   "cell_type": "code",
   "execution_count": 57,
   "id": "704b21b0",
   "metadata": {},
   "outputs": [],
   "source": [
    "def rup_to_usd(rupees):\n",
    "    usd_per_rup = 0.0125\n",
    "    return rupees * usd_per_rup"
   ]
  },
  {
   "cell_type": "code",
   "execution_count": 58,
   "id": "0b118660",
   "metadata": {},
   "outputs": [],
   "source": [
    "sorted_salaries_only['annual_salary_usd'] = sorted_salaries_only['annual_salary'].apply(rup_to_usd)"
   ]
  },
  {
   "cell_type": "markdown",
   "id": "e647f63d",
   "metadata": {},
   "source": [
    "#### Which are the top 10 highest paying jobs?"
   ]
  },
  {
   "cell_type": "code",
   "execution_count": 59,
   "id": "c49b7bd5",
   "metadata": {},
   "outputs": [
    {
     "data": {
      "text/html": [
       "<div>\n",
       "<style scoped>\n",
       "    .dataframe tbody tr th:only-of-type {\n",
       "        vertical-align: middle;\n",
       "    }\n",
       "\n",
       "    .dataframe tbody tr th {\n",
       "        vertical-align: top;\n",
       "    }\n",
       "\n",
       "    .dataframe thead th {\n",
       "        text-align: right;\n",
       "    }\n",
       "</style>\n",
       "<table border=\"1\" class=\"dataframe\">\n",
       "  <thead>\n",
       "    <tr style=\"text-align: right;\">\n",
       "      <th></th>\n",
       "      <th>job_title</th>\n",
       "      <th>company</th>\n",
       "      <th>annual_salary_usd</th>\n",
       "    </tr>\n",
       "  </thead>\n",
       "  <tbody>\n",
       "    <tr>\n",
       "      <th>229</th>\n",
       "      <td>Data Analyst</td>\n",
       "      <td>Knowledgehut solutions pvt ltd</td>\n",
       "      <td>135000.0</td>\n",
       "    </tr>\n",
       "    <tr>\n",
       "      <th>3</th>\n",
       "      <td>Machine Learning Developer</td>\n",
       "      <td>Tech Opportunity</td>\n",
       "      <td>97500.0</td>\n",
       "    </tr>\n",
       "    <tr>\n",
       "      <th>218</th>\n",
       "      <td>Machine Learning Developer</td>\n",
       "      <td>Tech Opportunity</td>\n",
       "      <td>97500.0</td>\n",
       "    </tr>\n",
       "    <tr>\n",
       "      <th>117</th>\n",
       "      <td>Data Science- Corporate Trainer</td>\n",
       "      <td>Synergy plus business group consultant</td>\n",
       "      <td>81250.0</td>\n",
       "    </tr>\n",
       "    <tr>\n",
       "      <th>391</th>\n",
       "      <td>Head Data Analytics</td>\n",
       "      <td>Strategic Talent Partner</td>\n",
       "      <td>75000.0</td>\n",
       "    </tr>\n",
       "    <tr>\n",
       "      <th>32</th>\n",
       "      <td>Data Scientist</td>\n",
       "      <td>BEIING</td>\n",
       "      <td>75000.0</td>\n",
       "    </tr>\n",
       "    <tr>\n",
       "      <th>126</th>\n",
       "      <td>Data Scientist</td>\n",
       "      <td>BEIING</td>\n",
       "      <td>75000.0</td>\n",
       "    </tr>\n",
       "    <tr>\n",
       "      <th>67</th>\n",
       "      <td>Data Scientist</td>\n",
       "      <td>Multirecruit</td>\n",
       "      <td>50000.0</td>\n",
       "    </tr>\n",
       "    <tr>\n",
       "      <th>180</th>\n",
       "      <td>Java Developer</td>\n",
       "      <td>Vision Tactics</td>\n",
       "      <td>50000.0</td>\n",
       "    </tr>\n",
       "    <tr>\n",
       "      <th>191</th>\n",
       "      <td>Hardware Design Verification Engineer</td>\n",
       "      <td>SiMa.ai, MLSoC - Bangalore India</td>\n",
       "      <td>50000.0</td>\n",
       "    </tr>\n",
       "  </tbody>\n",
       "</table>\n",
       "</div>"
      ],
      "text/plain": [
       "                                 job_title  \\\n",
       "229                           Data Analyst   \n",
       "3               Machine Learning Developer   \n",
       "218             Machine Learning Developer   \n",
       "117        Data Science- Corporate Trainer   \n",
       "391                    Head Data Analytics   \n",
       "32                          Data Scientist   \n",
       "126                         Data Scientist   \n",
       "67                          Data Scientist   \n",
       "180                         Java Developer   \n",
       "191  Hardware Design Verification Engineer   \n",
       "\n",
       "                                    company  annual_salary_usd  \n",
       "229          Knowledgehut solutions pvt ltd           135000.0  \n",
       "3                          Tech Opportunity            97500.0  \n",
       "218                        Tech Opportunity            97500.0  \n",
       "117  Synergy plus business group consultant            81250.0  \n",
       "391                Strategic Talent Partner            75000.0  \n",
       "32                                   BEIING            75000.0  \n",
       "126                                  BEIING            75000.0  \n",
       "67                             Multirecruit            50000.0  \n",
       "180                          Vision Tactics            50000.0  \n",
       "191        SiMa.ai, MLSoC - Bangalore India            50000.0  "
      ]
     },
     "execution_count": 59,
     "metadata": {},
     "output_type": "execute_result"
    }
   ],
   "source": [
    "sorted_salaries_only[['job_title', 'company', 'annual_salary_usd']].head(10)"
   ]
  }
 ],
 "metadata": {
  "kernelspec": {
   "display_name": "Python 3 (ipykernel)",
   "language": "python",
   "name": "python3"
  },
  "language_info": {
   "codemirror_mode": {
    "name": "ipython",
    "version": 3
   },
   "file_extension": ".py",
   "mimetype": "text/x-python",
   "name": "python",
   "nbconvert_exporter": "python",
   "pygments_lexer": "ipython3",
   "version": "3.9.7"
  }
 },
 "nbformat": 4,
 "nbformat_minor": 5
}
